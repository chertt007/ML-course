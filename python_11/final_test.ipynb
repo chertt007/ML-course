{
 "cells": [
  {
   "cell_type": "code",
   "execution_count": 36,
   "metadata": {},
   "outputs": [
    {
     "data": {
      "text/plain": [
       "9"
      ]
     },
     "metadata": {},
     "output_type": "display_data"
    }
   ],
   "source": [
    "import pandas as pd\n",
    "city_bike = pd.read_csv('data/citibike-tripdata.csv', sep=',')\n",
    "data_frame = city_bike.copy()\n",
    "# display(data_frame.head(1))\n",
    "# display(data_frame['start station id'].isna().sum())\n",
    "# display(data_frame['bikeid'].value_counts())\n",
    "# Какой тип клиентов (столбец usertype) является преобладающим — Subscriber или Customer? В качестве ответа запишите долю клиентов преобладающего типа среди общего количества клиентов. Ответ округлите до сотых.\n",
    "# display(data_frame['usertype'].value_counts(normalize=True))\n",
    "# Кто больше занимается велоспортом — мужчины или женщины? В ответ запишите число поездок для той группы, у которой их больше.\n",
    "# display(data_frame['gender'].value_counts())\n",
    "# Число уникальных стартовых и конечных стоянок, которыми воспользовались клиенты, не равны друг другу\n",
    "unic_start = data_frame['start station id'].nunique()\n",
    "unic_end = data_frame['end station id'].nunique()\n",
    "# display(unic_start)\n",
    "# display(unic_end)\n",
    "# В рассматриваемые дни минимальный возраст клиента составлял 10 лет\n",
    "# display(data_frame['birth year'].min())\n",
    "#  Самой непопулярной стартовой стоянкой из тех, которыми воспользовались клиенты, является стоянка с названием \"Eastern Pkwy & Washington Ave\"\n",
    "# display(data_frame['start station name'].value_counts().nsmallest(1))\n",
    "# Наибольшее количество поездок завершается на стоянке под названием \"Liberty Light Rail\"\n",
    "# display(data_frame['end station name'].value_counts())\n",
    "# В наших данных присутствуют столбцы, которые дублируют информацию друг о друге: это столбцы с идентификатором и названием стартовой и конечной стоянки. Удалите признаки идентификаторов стоянок. Сколько столбцов осталось?\n",
    "data_frame = data_frame.drop(['start station id','end station id'],  axis=1)\n",
    "# display(data_frame.head(20))\n",
    "# Замените признак birth year на более понятный признак возраста клиента age. Годом отсчёта возраста выберите 2018 год. Столбец birth year удалите из таблицы. Сколько поездок совершено клиентами старше 60 лет?\n",
    "def get_age(birth_year):\n",
    "  max_year = 2018;\n",
    "  return max_year - int(birth_year)\n",
    "data_frame['age'] = data_frame['birth year'].apply(get_age)\n",
    "data_frame = data_frame.drop('birth year', axis=1)\n",
    "# display(data_frame.head(20))\n",
    "over_60 = data_frame[data_frame['age'] > 60 ]\n",
    "# display(over_60)\n",
    "# Создайте признак длительности поездки trip duration. Для этого вычислите интервал времени между временем окончания поездки (stoptime) и её началом (starttime). Сколько целых минут длилась поездка под индексом 3 в таблице?\n",
    "data_frame['starttime'] = pd.to_datetime(data_frame['starttime'])\n",
    "data_frame['stoptime'] = pd.to_datetime(data_frame['stoptime'])\n",
    "data_frame['trip duration'] = data_frame['stoptime']   - data_frame['starttime']\n",
    "# display(data_frame.loc[3,'trip duration'].total_seconds() / 60)\n",
    "# Создайте «признак-мигалку» weekend, который равен 1, если поездка начиналась в выходной день (суббота или воскресенье), и 0 — в противном случае. Выясните, сколько поездок начиналось в выходные.\n",
    "def is_started_in_weekend(starttime):\n",
    "  weekends =[5,6]\n",
    "  if starttime.dayofweek in weekends:\n",
    "    return 1\n",
    "  return 0\n",
    "data_frame['weekend'] = data_frame['starttime'].apply(is_started_in_weekend)\n",
    "weekend_started = data_frame[data_frame['weekend']==1]\n",
    "# display(weekend_started)\n",
    "\n",
    "# оздайте признак времени суток поездки time_of_day. Время суток будем определять из часа начала поездки. Условимся, что:\n",
    "# поездка совершается ночью (night), если её час приходится на интервал от 0 (включительно) до 6 (включительно) часов;\n",
    "# поездка совершается утром (morning), если её час приходится на интервал от 6 (не включительно) до 12 (включительно) часов;\n",
    "# поездка совершается днём (day), если её час приходится на интервал от 12 (не включительно) до 18 (включительно) часов;\n",
    "# поездка совершается вечером (evening), если её час приходится на интервал от 18 (не включительно) до 23 часов (включительно).\n",
    "def get_time_of_day(starttime):\n",
    "  start_hour=starttime.hour\n",
    "  if 0 <= start_hour<=6:\n",
    "    return 'night'\n",
    "  if 6<start_hour<=12:\n",
    "    return 'morning'\n",
    "  if 12< start_hour<=18:\n",
    "    return 'day'\n",
    "  if 18< start_hour<= 23:\n",
    "    return 'evening'\n",
    "  \n",
    "data_frame['time_of_day'] = data_frame['starttime'].apply(get_time_of_day)\n",
    "# Во сколько раз количество поездок, совершённых днём, больше, чем количество поездок, совёршенных ночью, за представленный в данных период времени? Ответ округлите до целых.\n",
    "day_trips = data_frame[data_frame['time_of_day'] == 'day']\n",
    "night_trips = data_frame[data_frame['time_of_day'] == 'night']\n",
    "# display(day_trips)\n",
    "# display(night_trips)\n",
    "display(day_trips.shape[0]//night_trips.shape[0])\n",
    "\n"
   ]
  }
 ],
 "metadata": {
  "kernelspec": {
   "display_name": "Python 3",
   "language": "python",
   "name": "python3"
  },
  "language_info": {
   "codemirror_mode": {
    "name": "ipython",
    "version": 3
   },
   "file_extension": ".py",
   "mimetype": "text/x-python",
   "name": "python",
   "nbconvert_exporter": "python",
   "pygments_lexer": "ipython3",
   "version": "3.10.5"
  }
 },
 "nbformat": 4,
 "nbformat_minor": 2
}
