{
 "cells": [
  {
   "cell_type": "code",
   "execution_count": 23,
   "metadata": {},
   "outputs": [
    {
     "data": {
      "text/plain": [
       "1081198.6406956792"
      ]
     },
     "metadata": {},
     "output_type": "display_data"
    }
   ],
   "source": [
    "import pandas as pd\n",
    "melb_data = pd.read_csv('data/melb_data_ps.csv', sep=',')\n",
    "melb_df = melb_data.copy()\n",
    "# melb_df.head()\n",
    "melb_df = melb_df.drop(['index','Coordinates'],axis=1)\n",
    "# melb_df.head()\n",
    "total_rooms = melb_df['Rooms'] + melb_df['Bedroom'] + melb_df['Bathroom']\n",
    "melb_df['MeanRoomsArea'] =  melb_df['BuildingArea'] / total_rooms\n",
    "\n",
    "\n",
    "\n",
    "\n",
    "# display(melb_df.head(5))\n",
    "melb_df['Date'] = pd.to_datetime(melb_df['Date'],dayfirst=True)\n",
    "melb_df['Day'] = melb_df['Date'].dt.day_of_week\n",
    "weekend_count = melb_df[(melb_df['Day'] == 5) | (melb_df['Day']==6)]\n",
    "# display(weekend_count)\n",
    "\n",
    "def get_weekend(weekDay):\n",
    "  if weekDay == 5 or weekDay == 6:\n",
    "    return 1\n",
    "  return 0\n",
    "is_weekend = melb_df['Day'].apply(get_weekend)\n",
    "melb_df['Weekend'] = is_weekend\n",
    "mean_sold_in_weekend = melb_df[melb_df['Weekend'] == 1]['Price'].mean()\n",
    "display(mean_sold_in_weekend)\n"
   ]
  },
  {
   "cell_type": "code",
   "execution_count": null,
   "metadata": {},
   "outputs": [],
   "source": [
    "import pandas as pd\n",
    "customer_df = pd.DataFrame({\n",
    "            'number': [0, 1, 2, 3, 4],\n",
    "            'cust_id': [128, 1201, 9832, 4392, 7472],\n",
    "            'cust_age': [13, 21, 19, 21, 60],\n",
    "            'cust_sale': [0, 0, 0.2, 0.15, 0.3],\n",
    "            'cust_year_birth': [2008, 2000, 2002, 2000, 1961],\n",
    "            'cust_order': [1400, 14142, 900, 1240, 8430]\n",
    "        })\n",
    "\n",
    "def delete_columns(df, col=[]):\n",
    "  try:\n",
    "      df = df.drop(columns=col)\n",
    "  except:\n",
    "      return None  \n",
    "  "
   ]
  },
  {
   "cell_type": "code",
   "execution_count": 14,
   "metadata": {},
   "outputs": [
    {
     "data": {
      "text/plain": [
       "84.93080566562001"
      ]
     },
     "metadata": {},
     "output_type": "display_data"
    }
   ],
   "source": [
    "import pandas as pd\n",
    "\n",
    "countries_df = pd.DataFrame({\n",
    "    'country': ['Англия', 'Канада', 'США', 'Россия', 'Украина', 'Беларусь', 'Казахстан'],\n",
    "    'population': [56.29, 38.05, 322.28, 146.24, 45.5, 9.5, 17.04],\n",
    "    'area': [133396, 9984670, 9826630, 17125191, 603628, 207600, 2724902]\n",
    "})\n",
    "countries_df['Plotnost'] = countries_df['population']*1000000/countries_df['area']\n",
    "display(countries_df['Plotnost'].mean())"
   ]
  },
  {
   "cell_type": "code",
   "execution_count": 42,
   "metadata": {},
   "outputs": [
    {
     "name": "stderr",
     "output_type": "stream",
     "text": [
      "C:\\Users\\ilyae\\AppData\\Local\\Temp\\ipykernel_6588\\2210527119.py:7: SettingWithCopyWarning: \n",
      "A value is trying to be set on a copy of a slice from a DataFrame.\n",
      "Try using .loc[row_indexer,col_indexer] = value instead\n",
      "\n",
      "See the caveats in the documentation: https://pandas.pydata.org/pandas-docs/stable/user_guide/indexing.html#returning-a-view-versus-a-copy\n",
      "  nevada_cases['diff'] = nevada_cases['Time'].diff().dt.days\n"
     ]
    },
    {
     "data": {
      "text/plain": [
       "2894.0"
      ]
     },
     "metadata": {},
     "output_type": "display_data"
    }
   ],
   "source": [
    "import pandas as pd \n",
    "url = 'https://raw.githubusercontent.com/justmarkham/pandas-videos/master/data/ufo.csv'\n",
    "ufo_data = pd.read_csv(url)\n",
    "ufo_data['Time'] = pd.to_datetime(ufo_data['Time'], format='%m/%d/%Y %H:%M')\n",
    "\n",
    "nevada_cases = ufo_data[ufo_data['City'] == 'Nevada']\n",
    "nevada_cases['diff'] = nevada_cases['Time'].diff().dt.days\n",
    "average_interval = nevada_cases['diff'].mean()\n",
    "display(average_interval)"
   ]
  },
  {
   "cell_type": "code",
   "execution_count": 12,
   "metadata": {},
   "outputs": [
    {
     "data": {
      "text/plain": [
       "Address\n",
       "St           8019\n",
       "Rd           2825\n",
       "Ct            612\n",
       "Dr            447\n",
       "Av            361\n",
       "Gr            311\n",
       "Pde           226\n",
       "Pl            169\n",
       "Cr            152\n",
       "Cl            100\n",
       "La             67\n",
       "Bvd            66\n",
       "Tce            47\n",
       "Wy             40\n",
       "Cct            25\n",
       "Hwy            24\n",
       "Sq             11\n",
       "Crescent        9\n",
       "Cir             7\n",
       "Esplanade       6\n",
       "Grove           5\n",
       "Grn             4\n",
       "Gdns            4\n",
       "Fairway         4\n",
       "Mews            4\n",
       "Crossway        3\n",
       "Righi           3\n",
       "Ridge           2\n",
       "Victoria        2\n",
       "Esp             2\n",
       "Crofts          2\n",
       "Ave             1\n",
       "Summit          1\n",
       "Woodland        1\n",
       "Eyrie           1\n",
       "Hts             1\n",
       "Grand           1\n",
       "Outlook         1\n",
       "Gra             1\n",
       "Cove            1\n",
       "Dell            1\n",
       "East            1\n",
       "Loop            1\n",
       "Terrace         1\n",
       "Nook            1\n",
       "Glade           1\n",
       "Qy              1\n",
       "Res             1\n",
       "Grange          1\n",
       "Athol           1\n",
       "Highway         1\n",
       "Corso           1\n",
       "Name: count, dtype: int64"
      ]
     },
     "metadata": {},
     "output_type": "display_data"
    },
    {
     "data": {
      "text/plain": [
       "Index(['St', 'Rd', 'Ct', 'Dr', 'Av', 'Gr', 'Pde', 'Pl', 'Cr', 'Cl'], dtype='object', name='Address')"
      ]
     },
     "metadata": {},
     "output_type": "display_data"
    }
   ],
   "source": [
    "import pandas as pd\n",
    "melb_data = pd.read_csv('data/melb_data_ps.csv', sep=',')\n",
    "melb_df = melb_data.copy()\n",
    "\n",
    "def fix_street_type(adress):\n",
    "  transform_list = {\n",
    "    'Av':'Avenue',\n",
    "    'Bvd':'Boulevard',\n",
    "    'Pde':'Parade','St':'Strand'\n",
    "  }\n",
    "  for key,value in transform_list.items():\n",
    "    if adress == value:\n",
    "      return key\n",
    "  return adress\n",
    "\n",
    "def get_street_type(adress):\n",
    "  exclude_list = ['N', 'S', 'W', 'E']\n",
    "  adress_list  = adress.split(' ')\n",
    "  street_type = adress_list[-1]\n",
    "  \n",
    "  if street_type in exclude_list:\n",
    "    street_type = adress_list[-2]\n",
    "\n",
    "  street_type = fix_street_type(street_type)\n",
    "  return street_type\n",
    "\n",
    "\n",
    "street_types = melb_df['Address'].apply(get_street_type)\n",
    "display(street_types.value_counts())\n",
    "populat_street_types = street_types.value_counts().nlargest(10).index\n",
    "display(populat_street_types)\n",
    "melb_df['StreetType'] = street_types.apply(lambda street_type: street_type if street_type in populat_street_types else 'other')\n",
    "melb_df = melb_df.drop('Address',axis=1)\n"
   ]
  },
  {
   "cell_type": "code",
   "execution_count": 38,
   "metadata": {},
   "outputs": [
    {
     "data": {
      "text/plain": [
       "170000.0"
      ]
     },
     "metadata": {},
     "output_type": "display_data"
    },
    {
     "data": {
      "text/plain": [
       "131000.0"
      ]
     },
     "metadata": {},
     "output_type": "display_data"
    },
    {
     "data": {
      "text/plain": [
       "1.297709923664122"
      ]
     },
     "metadata": {},
     "output_type": "display_data"
    }
   ],
   "source": [
    "import pandas as pd\n",
    "melb_data = pd.read_csv('data/melb_data_ps.csv', sep=',')\n",
    "melb_df = melb_data.copy()\n",
    "most_popular_companies = melb_df['SellerG'].value_counts().nlargest(49).index\n",
    "\n",
    "def get_seller(seller,most_popular_companies):\n",
    "  if seller in most_popular_companies:\n",
    "    return seller\n",
    "  return 'other'\n",
    "melb_df['SellerG'] = melb_df['SellerG'].apply(get_seller, args=(most_popular_companies,))\n",
    "min_nelson_price = melb_df[melb_df['SellerG']=='Nelson']['Price'].min()\n",
    "min_other_price = melb_df[melb_df['SellerG']=='other']['Price'].min()\n",
    "display(min_nelson_price)\n",
    "display(min_other_price)\n",
    "display(min_nelson_price/min_other_price)"
   ]
  },
  {
   "cell_type": "code",
   "execution_count": 1,
   "metadata": {},
   "outputs": [],
   "source": [
    "def get_experience(arg):\n",
    "  result_in_month = 0\n",
    "  splitted_str = arg.split(' ')\n",
    "  splitted_str = splitted_str[2:]\n",
    "  \n",
    "  for index,value in enumerate(splitted_str):\n",
    "    if index % 2 == 0:\n",
    "      next_word =splitted_str[index+1]\n",
    "      if next_word.lower().startswith('м'):\n",
    "        result_in_month += int(value)\n",
    "      else:\n",
    "        result_in_month += int(value)*12\n",
    "  return result_in_month\n",
    "        \n",
    "      \n",
    "display(get_experience('Опыт работы 8 лет 3 месяца'))"
   ]
  },
  {
   "cell_type": "code",
   "execution_count": 8,
   "metadata": {},
   "outputs": [
    {
     "data": {
      "text/plain": [
       "0     unit\n",
       "1    house\n",
       "2     flat\n",
       "3     flat\n",
       "4    house\n",
       "dtype: category\n",
       "Categories (4, object): ['house', 'townhouse', 'unit', 'flat']"
      ]
     },
     "metadata": {},
     "output_type": "display_data"
    }
   ],
   "source": [
    "import pandas as pd\n",
    "melb_data = pd.read_csv('data/melb_data_ps.csv', sep=',')\n",
    "melb_df = melb_data.copy()\n",
    "\n",
    "unique_list = [];\n",
    "for col in melb_df.columns:\n",
    "  item = (col, melb_df[col].nunique(), melb_df[col].dtypes)\n",
    "  unique_list.append(item)\n",
    "  \n",
    "unique_counts = pd.DataFrame(unique_list,columns=['Column_Name', 'Num_Unique', 'Type']).sort_values(by='Num_Unique',ignore_index=True)\n",
    "# display(unique_counts)  \n",
    "# display(melb_df.info())\n",
    "cols_to_exclude = ['Date', 'Rooms', 'Bedroom', 'Bathroom', 'Car']\n",
    "max_unique_count = 150 # задаём максимальное число уникальных категорий\n",
    "for col in melb_df.columns:\n",
    "  if melb_df[col].nunique()< max_unique_count and col not in cols_to_exclude:\n",
    "    melb_df[col] = melb_df[col].astype('category')\n",
    "# display(melb_df.info())\n",
    "# display(melb_df['Regionname'].cat.categories)\n",
    "melb_df['Type'] = melb_df['Type'].cat.rename_categories({\n",
    "  'u':'unit','h':'house','t':'townhouse'\n",
    "})\n",
    "# display(melb_df['Type'])\n",
    "melb_df['Type'] = melb_df['Type'].cat.add_categories('flat')\n",
    "new_houses_types = pd.Series(['unit', 'house', 'flat', 'flat', 'house'])\n",
    "new_houses_types = new_houses_types.astype(melb_df['Type'].dtype)\n",
    "display(new_houses_types)"
   ]
  },
  {
   "cell_type": "code",
   "execution_count": 18,
   "metadata": {},
   "outputs": [
    {
     "name": "stdout",
     "output_type": "stream",
     "text": [
      "<class 'pandas.core.frame.DataFrame'>\n",
      "RangeIndex: 13580 entries, 0 to 13579\n",
      "Data columns (total 23 columns):\n",
      " #   Column         Non-Null Count  Dtype   \n",
      "---  ------         --------------  -----   \n",
      " 0   index          13580 non-null  int64   \n",
      " 1   Suburb         13580 non-null  category\n",
      " 2   Address        13580 non-null  object  \n",
      " 3   Rooms          13580 non-null  int64   \n",
      " 4   Type           13580 non-null  object  \n",
      " 5   Price          13580 non-null  float64 \n",
      " 6   Method         13580 non-null  object  \n",
      " 7   SellerG        13580 non-null  object  \n",
      " 8   Date           13580 non-null  object  \n",
      " 9   Distance       13580 non-null  float64 \n",
      " 10  Postcode       13580 non-null  int64   \n",
      " 11  Bedroom        13580 non-null  int64   \n",
      " 12  Bathroom       13580 non-null  int64   \n",
      " 13  Car            13580 non-null  int64   \n",
      " 14  Landsize       13580 non-null  float64 \n",
      " 15  BuildingArea   13580 non-null  float64 \n",
      " 16  YearBuilt      13580 non-null  int64   \n",
      " 17  CouncilArea    12211 non-null  object  \n",
      " 18  Lattitude      13580 non-null  float64 \n",
      " 19  Longtitude     13580 non-null  float64 \n",
      " 20  Regionname     13580 non-null  object  \n",
      " 21  Propertycount  13580 non-null  int64   \n",
      " 22  Coordinates    13580 non-null  object  \n",
      "dtypes: category(1), float64(6), int64(8), object(8)\n",
      "memory usage: 2.3+ MB\n"
     ]
    }
   ],
   "source": [
    "import pandas as pd\n",
    "melb_data = pd.read_csv('data/melb_data_ps.csv', sep=',')\n",
    "melb_df = melb_data.copy()\n",
    "\n",
    "def get_suberb_type(suberb,most_popular_list):\n",
    "  if suberb not in most_popular_list:\n",
    "    return 'other'\n",
    "  return suberb\n",
    "  \n",
    "# melb_df.info()\n",
    "max_count_suberb_types = 119;\n",
    "# display(melb_df['Suburb'].value_counts())\n",
    "most_popular_suberbs = melb_df['Suburb'].value_counts().nlargest(max_count_suberb_types).index\n",
    "melb_df['Suburb'] = melb_df['Suburb'].apply(get_suberb_type, args=(most_popular_suberbs,))\n",
    "# display(melb_df['Suburb'].value_counts().nlargest(160))\n",
    "melb_df['Suburb'] = melb_df['Suburb'].astype('category')\n",
    "melb_df.info()\n"
   ]
  }
 ],
 "metadata": {
  "kernelspec": {
   "display_name": "Python 3",
   "language": "python",
   "name": "python3"
  },
  "language_info": {
   "codemirror_mode": {
    "name": "ipython",
    "version": 3
   },
   "file_extension": ".py",
   "mimetype": "text/x-python",
   "name": "python",
   "nbconvert_exporter": "python",
   "pygments_lexer": "ipython3",
   "version": "3.10.5"
  }
 },
 "nbformat": 4,
 "nbformat_minor": 2
}
