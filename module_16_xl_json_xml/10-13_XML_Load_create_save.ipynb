{
 "cells": [
  {
   "cell_type": "code",
   "execution_count": 1,
   "metadata": {},
   "outputs": [],
   "source": [
    "import pandas as pd\n",
    "import xml.etree.ElementTree as ET"
   ]
  },
  {
   "cell_type": "markdown",
   "metadata": {},
   "source": [
    "ЗАГРУЖАЕМ ДАННЫЕ ИЗ XML-ФАЙЛА В DATAFRAME\n",
    "\n",
    "Покажем, как это сделать, на примере работы с нашим файлом-меню.\n",
    "\n",
    "✍ Реализуем следующий алгоритм:\n",
    "\n",
    "Загрузить данные из XML-файла menu.xml в переменную root.\n",
    "Создать пустой список df_list (в него будем добавлять строчки итоговой таблицы).\n",
    "Заранее создать список column_names с именами столбцов — название блюда (name), его цена (price), вес (weight) и класс (class).\n",
    "В цикле организовать обход xml-дерева из корня по всем потомкам.\n",
    "На каждой итерации цикла сформировать в виде списка строку таблицы, содержащую информацию: наименование блюда (атрибут name узла dish) и значения потомков этого узла — узлов price, weight, class.\n",
    "Добавить сформированную строку в список df_list, используя метод append().\n",
    "Сформировать из вложенного списка DataFrame. Имена для столбцов взять из списка column_names.\n",
    "Код, который реализует этот алгоритм:"
   ]
  },
  {
   "cell_type": "code",
   "execution_count": 5,
   "metadata": {},
   "outputs": [
    {
     "data": {
      "text/plain": [
       "<Element 'menu' at 0x000001457F4F5170>"
      ]
     },
     "metadata": {},
     "output_type": "display_data"
    },
    {
     "data": {
      "text/html": [
       "<div>\n",
       "<style scoped>\n",
       "    .dataframe tbody tr th:only-of-type {\n",
       "        vertical-align: middle;\n",
       "    }\n",
       "\n",
       "    .dataframe tbody tr th {\n",
       "        vertical-align: top;\n",
       "    }\n",
       "\n",
       "    .dataframe thead th {\n",
       "        text-align: right;\n",
       "    }\n",
       "</style>\n",
       "<table border=\"1\" class=\"dataframe\">\n",
       "  <thead>\n",
       "    <tr style=\"text-align: right;\">\n",
       "      <th></th>\n",
       "      <th>name</th>\n",
       "      <th>price</th>\n",
       "      <th>weight</th>\n",
       "      <th>class</th>\n",
       "    </tr>\n",
       "  </thead>\n",
       "  <tbody>\n",
       "    <tr>\n",
       "      <th>0</th>\n",
       "      <td>Кура</td>\n",
       "      <td>40</td>\n",
       "      <td>300</td>\n",
       "      <td>Мясо</td>\n",
       "    </tr>\n",
       "    <tr>\n",
       "      <th>1</th>\n",
       "      <td>Греча</td>\n",
       "      <td>20</td>\n",
       "      <td>200</td>\n",
       "      <td>Крупа</td>\n",
       "    </tr>\n",
       "  </tbody>\n",
       "</table>\n",
       "</div>"
      ],
      "text/plain": [
       "    name price weight  class\n",
       "0   Кура    40    300   Мясо\n",
       "1  Греча    20    200  Крупа"
      ]
     },
     "metadata": {},
     "output_type": "display_data"
    }
   ],
   "source": [
    "tree = ET.parse('./data/menu.xml')\n",
    "root = tree.getroot()\n",
    "display(root)\n",
    "columns_name = ['name', 'price', 'weight', 'class']\n",
    "df_list = []\n",
    "\n",
    "for dish in root:\n",
    "  row = [dish.attrib['name'], dish[0].text , dish[1].text, dish[2].text]\n",
    "  df_list.append(row)\n",
    "df = pd.DataFrame(df_list, columns=columns_name)\n",
    "display(df)"
   ]
  },
  {
   "cell_type": "markdown",
   "metadata": {},
   "source": [
    "СОЗДАЁМ XML-ФАЙЛ\n",
    "\n",
    "→ Воссоздадим структуру нашего исходного XML-файла с нуля,  руководствуясь общими рекомендациями.\n",
    "\n",
    "Чтобы создать корень дерева, используем метод Element() из класса ElementTree:"
   ]
  },
  {
   "cell_type": "code",
   "execution_count": 6,
   "metadata": {},
   "outputs": [
    {
     "data": {
      "text/plain": [
       "<Element 'menu' at 0x000001457F6A8BD0>"
      ]
     },
     "metadata": {},
     "output_type": "display_data"
    }
   ],
   "source": [
    "new_root = ET.Element('menu')\n",
    "display(new_root)\n"
   ]
  },
  {
   "cell_type": "markdown",
   "metadata": {},
   "source": [
    "Теперь мы можем добавлять новые узлы в наше дерево, используя метод SubElement() из того же класса.\n",
    "\n",
    "Добавим в наше меню двух потомков корневого узла, которые будут представлять два блюда, то есть будут узлами dish:\n",
    "\n"
   ]
  },
  {
   "cell_type": "code",
   "execution_count": 8,
   "metadata": {},
   "outputs": [
    {
     "data": {
      "text/plain": [
       "[<Element 'dish' at 0x000001457F6D92B0>,\n",
       " <Element 'dish' at 0x000001457F6D9B70>,\n",
       " <Element 'dish' at 0x000001457F6DB830>,\n",
       " <Element 'dish' at 0x000001457F6D8040>]"
      ]
     },
     "metadata": {},
     "output_type": "display_data"
    }
   ],
   "source": [
    "dish1 = ET.SubElement(new_root, 'dish', name='Кура')\n",
    "dish2 = ET.SubElement(new_root, 'dish', name='Греча')\n",
    "display(list(new_root))"
   ]
  },
  {
   "cell_type": "markdown",
   "metadata": {},
   "source": [
    "В метод SubElement() мы передали первым аргументом узел, к которому добавляем потомка, вторым аргументом — наименование нового тега (dish),  третьим аргументом — наименование атрибута нового узла( name ) и его значение.\n",
    "\n",
    "Аналогичным образом можно добавлять новые узлы к любым существующим узлам, не только к корню.\n",
    "\n",
    "\n",
    "Добавим в создаваемую структуру по три потомка (атрибута) к двум новым узлам, которые будут содержать информацию о блюде — о его цене (price), весе (weight) и классе (class), а также значение этих атрибутов:"
   ]
  },
  {
   "cell_type": "code",
   "execution_count": 9,
   "metadata": {},
   "outputs": [
    {
     "data": {
      "text/plain": [
       "[<Element 'price' at 0x000001457F6D8130>,\n",
       " <Element 'weight' at 0x000001457F6DAB10>,\n",
       " <Element 'class' at 0x000001457F6D8590>]"
      ]
     },
     "metadata": {},
     "output_type": "display_data"
    },
    {
     "data": {
      "text/plain": [
       "[<Element 'price' at 0x000001457F4F68E0>,\n",
       " <Element 'weight' at 0x000001457F6A9210>,\n",
       " <Element 'class' at 0x000001457F6AA430>]"
      ]
     },
     "metadata": {},
     "output_type": "display_data"
    }
   ],
   "source": [
    "price1 = ET.SubElement(dish1, \"price\").text = \"40\"\n",
    "weight1 = ET.SubElement(dish1, \"weight\").text = \"300\"\n",
    "class1 = ET.SubElement(dish1, \"class\").text = \"Мясо\"\n",
    "display(list(dish1))\n",
    "\n",
    "price2 = ET.SubElement(dish2, \"price\").text = \"20\"\n",
    "weight2 = ET.SubElement(dish2, \"weight\").text = \"200\"\n",
    "class2 = ET.SubElement(dish2, \"class\").text = \"Крупа\"\n",
    "display(list(dish2))"
   ]
  },
  {
   "cell_type": "markdown",
   "metadata": {},
   "source": [
    "Проверим визуально корректность созданной нами структуры, выполнив фрагмент кода, разработанного ранее:"
   ]
  },
  {
   "cell_type": "code",
   "execution_count": 10,
   "metadata": {},
   "outputs": [
    {
     "name": "stdout",
     "output_type": "stream",
     "text": [
      "\n",
      "\n",
      "Кура price 40\n",
      "Кура weight 300\n",
      "Кура class Мясо\n",
      "\n",
      "Греча price 20\n",
      "Греча weight 200\n",
      "Греча class Крупа\n",
      "\n"
     ]
    }
   ],
   "source": [
    "for dish in new_root:\n",
    "  for param in dish:\n",
    "    print(dish.attrib['name'] , param.tag, param.text)\n",
    "  print()"
   ]
  },
  {
   "cell_type": "markdown",
   "metadata": {},
   "source": [
    "озданная нами структура полностью идентична структуре исходного XML-файла.\n",
    "\n",
    "СОХРАНЕНИЕ XML-ФАЙЛА\n",
    "\n",
    "→ В финале работы с файлом XML-формата запишем созданную нами структуру как XML-файл на диск.\n",
    "\n",
    "Преобразуем созданный нами объект типа ElementTree.Element в строку c помощью метода tostring(), передав наше новое дерево как аргумент. Сохраним эту строку на диске, используя стандартные средства Python::"
   ]
  },
  {
   "cell_type": "code",
   "execution_count": 11,
   "metadata": {},
   "outputs": [],
   "source": [
    "new_root_string = ET.tostring(new_root)\n",
    "\n",
    "with open('new_menu.xml', 'wb') as f:\n",
    "  f.write(new_root_string)"
   ]
  },
  {
   "cell_type": "markdown",
   "metadata": {},
   "source": [
    "✍️ Файл записан! Откройте его и посмотрите, что получилось.\n",
    "\n",
    "Возможно, вы увидите проблему, связанную с кодировкой. Что делать в этом случае? Как вариант — записать файл, используя сам класс ElementTree() :"
   ]
  },
  {
   "cell_type": "code",
   "execution_count": 12,
   "metadata": {},
   "outputs": [],
   "source": [
    "ET.ElementTree(new_root).write('new_menu_good.xml', encoding=\"utf-8\")"
   ]
  },
  {
   "cell_type": "markdown",
   "metadata": {},
   "source": [
    "Для этого мы передаём в класс ElementTree() наше дерево (не его строковое представление) и вызываем метод write(). В метод мы передаём путь к новому файлу и нужную нам кодировку."
   ]
  }
 ],
 "metadata": {
  "kernelspec": {
   "display_name": "Python 3",
   "language": "python",
   "name": "python3"
  },
  "language_info": {
   "codemirror_mode": {
    "name": "ipython",
    "version": 3
   },
   "file_extension": ".py",
   "mimetype": "text/x-python",
   "name": "python",
   "nbconvert_exporter": "python",
   "pygments_lexer": "ipython3",
   "version": "3.10.5"
  }
 },
 "nbformat": 4,
 "nbformat_minor": 2
}
