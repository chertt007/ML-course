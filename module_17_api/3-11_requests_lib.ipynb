{
 "cells": [
  {
   "cell_type": "code",
   "execution_count": null,
   "metadata": {},
   "outputs": [],
   "source": []
  },
  {
   "cell_type": "markdown",
   "metadata": {},
   "source": [
    "✍ В стандартной библиотеке Python для отправки веб-запросов существует функция urllib2, но большинство разработчиков используют стороннюю библиотеку requests (c англ. запросы), потому что её работа более стабильна, а созданный с её помощью код получается проще. Поэтому мы будем работать с библиотекой requests, а urllib2 рассматривать не будем.\n",
    "\n",
    "Познакомимся с библиотекой requests, решив простую задачу — получить значения курсов валют. Курс валют — полезная и регулярно обновляемая информация, но каждый раз в ручном режиме получать информацию о курсе интересующей валюты трудоёмко.\n",
    "\n",
    "Разработаем код, так называемый скрипт (англ. script, рус. сценарий), — небольшую программу, которая содержит последовательность действий для автоматического выполнения задачи.\n",
    "\n",
    "С помощью скрипта мы будем в удобном виде выгружать информацию по курсам валют с заранее выбранного сайта.\n",
    "\n",
    "Один из сайтов в интернете, на котором информация о курсах валют дублирует информацию с сайта Центрального Банка России, — ресурс Курсы валют ЦБ РФ в XML и JSON. На данном ресурсе информация о курсах валют представлена в разных форматах, в том числе и в структурированном JSON-формате, методы работы с которым мы изучили в одном из предыдущих модулей.\n",
    "\n",
    "Перед началом работы библиотеку requests потребуется установить. Например, в Jupyter Notebook это делается с помощью такой команды:"
   ]
  },
  {
   "cell_type": "markdown",
   "metadata": {},
   "source": [
    "Как только библиотека установлена, импортируем её и отправим наш первый запрос к ресурсу Курсы валют ЦБ РФ в XML и JSON. Используем метод get() из библиотеки requests, передав ему соответствующий URL —  https://www.cbr-xml-daily.ru/daily_json.js:"
   ]
  },
  {
   "cell_type": "code",
   "execution_count": 3,
   "metadata": {},
   "outputs": [],
   "source": [
    "import requests # Импортируем библиотеку requests\n",
    "url = 'https://www.cbr-xml-daily.ru/daily_json.js'\n",
    "\n",
    "response = requests.get(url)"
   ]
  },
  {
   "cell_type": "markdown",
   "metadata": {},
   "source": [
    "Проверим ответ сервера — содержимое переменной response:"
   ]
  },
  {
   "cell_type": "code",
   "execution_count": 4,
   "metadata": {},
   "outputs": [
    {
     "name": "stdout",
     "output_type": "stream",
     "text": [
      "<Response [200]>\n"
     ]
    }
   ],
   "source": [
    "print(response) # Выводим значение response на экран как объект\n"
   ]
  },
  {
   "cell_type": "markdown",
   "metadata": {},
   "source": [
    "Мы получили объект ответа Response, который содержит всю нужную нам информацию. По умолчанию в квадратных скобках на экран выводится код статуса ответа. В данном случае он равен 200 — то есть запрос был корректным и сервер отдал нам нужную информацию. Значение кода статуса 404 означало бы, что страница по указанному адресу не найдена, а значение 403 — что синтаксис GET-запроса неверный.\n",
    "\n",
    "Код ответа в виде числовой переменной можно получить с помощью метода status_code"
   ]
  },
  {
   "cell_type": "code",
   "execution_count": 5,
   "metadata": {},
   "outputs": [
    {
     "name": "stdout",
     "output_type": "stream",
     "text": [
      "200\n"
     ]
    }
   ],
   "source": [
    "print(response.status_code) # Выводим числовое значение response на экран\n"
   ]
  },
  {
   "cell_type": "markdown",
   "metadata": {},
   "source": [
    "Вы уже импортировали модуль requests в ваш код. Напишите строку кода, при выполнении которой будет сделан GET-запрос к ресурсу https://www.cbr-xml-daily.ru/daily.xml, а результат ответа будет сохранён в переменной response:"
   ]
  },
  {
   "cell_type": "code",
   "execution_count": 8,
   "metadata": {},
   "outputs": [
    {
     "name": "stdout",
     "output_type": "stream",
     "text": [
      "<?xml version=\"1.0\" encoding=\"windows-1251\"?><ValCurs Date=\"26.06.2024\" name=\"Foreign Currency Market\"><Valute ID=\"R01010\"><NumCode>036</NumCode><CharCode>AUD</CharCode><Nominal>1</Nominal><Name>Àâñòðàëèéñêèé äîëëàð</Name><Value>58,1614</Value><VunitRate>58,1614</VunitRate></Valute><Valute ID=\"R01020A\"><NumCode>944</NumCode><CharCode>AZN</CharCode><Nominal>1</Nominal><Name>Àçåðáàéäæàíñêèé ìàíàò</Name><Value>51,3394</Value><VunitRate>51,3394</VunitRate></Valute><Valute ID=\"R01035\"><NumCode>826</NumCode><CharCode>GBP</CharCode><Nominal>1</Nominal><Name>Ôóíò ñòåðëèíãîâ Ñîåäèíåííîãî êîðîëåâñòâà</Name><Value>110,7371</Value><VunitRate>110,7371</VunitRate></Valute><Valute ID=\"R01060\"><NumCode>051</NumCode><CharCode>AMD</CharCode><Nominal>100</Nominal><Name>Àðìÿíñêèõ äðàìîâ</Name><Value>22,4825</Value><VunitRate>0,224825</VunitRate></Valute><Valute ID=\"R01090B\"><NumCode>933</NumCode><CharCode>BYN</CharCode><Nominal>1</Nominal><Name>Áåëîðóññêèé ðóáëü</Name><Value>27,3125</Value><VunitRate>27,3125</VunitRate></Valute><Valute ID=\"R01100\"><NumCode>975</NumCode><CharCode>BGN</CharCode><Nominal>1</Nominal><Name>Áîëãàðñêèé ëåâ</Name><Value>47,8815</Value><VunitRate>47,8815</VunitRate></Valute><Valute ID=\"R01115\"><NumCode>986</NumCode><CharCode>BRL</CharCode><Nominal>1</Nominal><Name>Áðàçèëüñêèé ðåàë</Name><Value>16,1633</Value><VunitRate>16,1633</VunitRate></Valute><Valute ID=\"R01135\"><NumCode>348</NumCode><CharCode>HUF</CharCode><Nominal>100</Nominal><Name>Âåíãåðñêèõ ôîðèíòîâ</Name><Value>23,7185</Value><VunitRate>0,237185</VunitRate></Valute><Valute ID=\"R01150\"><NumCode>704</NumCode><CharCode>VND</CharCode><Nominal>10000</Nominal><Name>Âüåòíàìñêèõ äîíãîâ</Name><Value>35,9861</Value><VunitRate>0,00359861</VunitRate></Valute><Valute ID=\"R01200\"><NumCode>344</NumCode><CharCode>HKD</CharCode><Nominal>1</Nominal><Name>Ãîíêîíãñêèé äîëëàð</Name><Value>11,1980</Value><VunitRate>11,198</VunitRate></Valute><Valute ID=\"R01210\"><NumCode>981</NumCode><CharCode>GEL</CharCode><Nominal>1</Nominal><Name>Ãðóçèíñêèé ëàðè</Name><Value>31,1359</Value><VunitRate>31,1359</VunitRate></Valute><Valute ID=\"R01215\"><NumCode>208</NumCode><CharCode>DKK</CharCode><Nominal>1</Nominal><Name>Äàòñêàÿ êðîíà</Name><Value>12,5546</Value><VunitRate>12,5546</VunitRate></Valute><Valute ID=\"R01230\"><NumCode>784</NumCode><CharCode>AED</CharCode><Nominal>1</Nominal><Name>Äèðõàì ÎÀÝ</Name><Value>23,7650</Value><VunitRate>23,765</VunitRate></Valute><Valute ID=\"R01235\"><NumCode>840</NumCode><CharCode>USD</CharCode><Nominal>1</Nominal><Name>Äîëëàð ÑØÀ</Name><Value>87,2770</Value><VunitRate>87,277</VunitRate></Valute><Valute ID=\"R01239\"><NumCode>978</NumCode><CharCode>EUR</CharCode><Nominal>1</Nominal><Name>Åâðî</Name><Value>93,7347</Value><VunitRate>93,7347</VunitRate></Valute><Valute ID=\"R01240\"><NumCode>818</NumCode><CharCode>EGP</CharCode><Nominal>10</Nominal><Name>Åãèïåòñêèõ ôóíòîâ</Name><Value>18,0397</Value><VunitRate>1,80397</VunitRate></Valute><Valute ID=\"R01270\"><NumCode>356</NumCode><CharCode>INR</CharCode><Nominal>10</Nominal><Name>Èíäèéñêèõ ðóïèé</Name><Value>10,4614</Value><VunitRate>1,04614</VunitRate></Valute><Valute ID=\"R01280\"><NumCode>360</NumCode><CharCode>IDR</CharCode><Nominal>10000</Nominal><Name>Èíäîíåçèéñêèõ ðóïèé</Name><Value>53,1173</Value><VunitRate>0,00531173</VunitRate></Valute><Valute ID=\"R01335\"><NumCode>398</NumCode><CharCode>KZT</CharCode><Nominal>100</Nominal><Name>Êàçàõñòàíñêèõ òåíãå</Name><Value>18,7580</Value><VunitRate>0,18758</VunitRate></Valute><Valute ID=\"R01350\"><NumCode>124</NumCode><CharCode>CAD</CharCode><Nominal>1</Nominal><Name>Êàíàäñêèé äîëëàð</Name><Value>63,8784</Value><VunitRate>63,8784</VunitRate></Valute><Valute ID=\"R01355\"><NumCode>634</NumCode><CharCode>QAR</CharCode><Nominal>1</Nominal><Name>Êàòàðñêèé ðèàë</Name><Value>23,9772</Value><VunitRate>23,9772</VunitRate></Valute><Valute ID=\"R01370\"><NumCode>417</NumCode><CharCode>KGS</CharCode><Nominal>10</Nominal><Name>Êèðãèçñêèõ ñîìîâ</Name><Value>10,0797</Value><VunitRate>1,00797</VunitRate></Valute><Valute ID=\"R01375\"><NumCode>156</NumCode><CharCode>CNY</CharCode><Nominal>1</Nominal><Name>Êèòàéñêèé þàíü</Name><Value>11,8105</Value><VunitRate>11,8105</VunitRate></Valute><Valute ID=\"R01500\"><NumCode>498</NumCode><CharCode>MDL</CharCode><Nominal>10</Nominal><Name>Ìîëäàâñêèõ ëååâ</Name><Value>48,7919</Value><VunitRate>4,87919</VunitRate></Valute><Valute ID=\"R01530\"><NumCode>554</NumCode><CharCode>NZD</CharCode><Nominal>1</Nominal><Name>Íîâîçåëàíäñêèé äîëëàð</Name><Value>53,4310</Value><VunitRate>53,431</VunitRate></Valute><Valute ID=\"R01535\"><NumCode>578</NumCode><CharCode>NOK</CharCode><Nominal>10</Nominal><Name>Íîðâåæñêèõ êðîí</Name><Value>82,5166</Value><VunitRate>8,25166</VunitRate></Valute><Valute ID=\"R01565\"><NumCode>985</NumCode><CharCode>PLN</CharCode><Nominal>1</Nominal><Name>Ïîëüñêèé çëîòûé</Name><Value>21,8329</Value><VunitRate>21,8329</VunitRate></Valute><Valute ID=\"R01585F\"><NumCode>946</NumCode><CharCode>RON</CharCode><Nominal>1</Nominal><Name>Ðóìûíñêèé ëåé</Name><Value>18,8154</Value><VunitRate>18,8154</VunitRate></Valute><Valute ID=\"R01589\"><NumCode>960</NumCode><CharCode>XDR</CharCode><Nominal>1</Nominal><Name>ÑÄÐ (ñïåöèàëüíûå ïðàâà çàèìñòâîâàíèÿ)</Name><Value>114,9351</Value><VunitRate>114,9351</VunitRate></Valute><Valute ID=\"R01625\"><NumCode>702</NumCode><CharCode>SGD</CharCode><Nominal>1</Nominal><Name>Ñèíãàïóðñêèé äîëëàð</Name><Value>64,5540</Value><VunitRate>64,554</VunitRate></Valute><Valute ID=\"R01670\"><NumCode>972</NumCode><CharCode>TJS</CharCode><Nominal>10</Nominal><Name>Òàäæèêñêèõ ñîìîíè</Name><Value>81,8296</Value><VunitRate>8,18296</VunitRate></Valute><Valute ID=\"R01675\"><NumCode>764</NumCode><CharCode>THB</CharCode><Nominal>10</Nominal><Name>Òàèëàíäñêèõ áàòîâ</Name><Value>23,8403</Value><VunitRate>2,38403</VunitRate></Valute><Valute ID=\"R01700J\"><NumCode>949</NumCode><CharCode>TRY</CharCode><Nominal>10</Nominal><Name>Òóðåöêèõ ëèð</Name><Value>26,5786</Value><VunitRate>2,65786</VunitRate></Valute><Valute ID=\"R01710A\"><NumCode>934</NumCode><CharCode>TMT</CharCode><Nominal>1</Nominal><Name>Íîâûé òóðêìåíñêèé ìàíàò</Name><Value>24,9363</Value><VunitRate>24,9363</VunitRate></Valute><Valute ID=\"R01717\"><NumCode>860</NumCode><CharCode>UZS</CharCode><Nominal>10000</Nominal><Name>Óçáåêñêèõ ñóìîâ</Name><Value>69,2679</Value><VunitRate>0,00692679</VunitRate></Valute><Valute ID=\"R01720\"><NumCode>980</NumCode><CharCode>UAH</CharCode><Nominal>10</Nominal><Name>Óêðàèíñêèõ ãðèâåí</Name><Value>21,5230</Value><VunitRate>2,1523</VunitRate></Valute><Valute ID=\"R01760\"><NumCode>203</NumCode><CharCode>CZK</CharCode><Nominal>10</Nominal><Name>×åøñêèõ êðîí</Name><Value>37,6779</Value><VunitRate>3,76779</VunitRate></Valute><Valute ID=\"R01770\"><NumCode>752</NumCode><CharCode>SEK</CharCode><Nominal>10</Nominal><Name>Øâåäñêèõ êðîí</Name><Value>83,2022</Value><VunitRate>8,32022</VunitRate></Valute><Valute ID=\"R01775\"><NumCode>756</NumCode><CharCode>CHF</CharCode><Nominal>1</Nominal><Name>Øâåéöàðñêèé ôðàíê</Name><Value>97,6799</Value><VunitRate>97,6799</VunitRate></Valute><Valute ID=\"R01805F\"><NumCode>941</NumCode><CharCode>RSD</CharCode><Nominal>100</Nominal><Name>Ñåðáñêèõ äèíàðîâ</Name><Value>80,0808</Value><VunitRate>0,800808</VunitRate></Valute><Valute ID=\"R01810\"><NumCode>710</NumCode><CharCode>ZAR</CharCode><Nominal>10</Nominal><Name>Þæíîàôðèêàíñêèõ ðýíäîâ</Name><Value>48,1088</Value><VunitRate>4,81088</VunitRate></Valute><Valute ID=\"R01815\"><NumCode>410</NumCode><CharCode>KRW</CharCode><Nominal>1000</Nominal><Name>Âîí Ðåñïóáëèêè Êîðåÿ</Name><Value>62,9023</Value><VunitRate>0,0629023</VunitRate></Valute><Valute ID=\"R01820\"><NumCode>392</NumCode><CharCode>JPY</CharCode><Nominal>100</Nominal><Name>ßïîíñêèõ èåí</Name><Value>54,7191</Value><VunitRate>0,547191</VunitRate></Valute></ValCurs>\n"
     ]
    }
   ],
   "source": [
    "url = 'https://www.cbr-xml-daily.ru/daily.xml'\n",
    "response = requests.get(url)\n",
    "print(response.text)\n"
   ]
  },
  {
   "cell_type": "markdown",
   "metadata": {},
   "source": [
    "Мы сделали запрос и получили корректный ответ (код статуса — 200). Дальнейшую работу производим с результатом запроса к ресурсу Курсы валют ЦБ РФ в XML и JSON.\n",
    "\n",
    "?\n",
    "Как получить доступ ко всей информации, которую содержит ответ?\n",
    "\n",
    "Текст ответа хранится в атрибуте text. Выведем значение атрибута на экран и посмотрим на его содержимое:"
   ]
  },
  {
   "cell_type": "code",
   "execution_count": 10,
   "metadata": {},
   "outputs": [
    {
     "name": "stdout",
     "output_type": "stream",
     "text": [
      "<class 'str'>\n"
     ]
    }
   ],
   "source": [
    "url = 'https://www.cbr-xml-daily.ru/daily_json.js'\n",
    "\n",
    "response = requests.get(url)\n",
    "print(response.text)"
   ]
  },
  {
   "cell_type": "markdown",
   "metadata": {},
   "source": [
    "Как правило, при работе над реальным проектом на этапе получения данных мы уже понимаем, с какими форматами данных нам придётся работать. На предлагаемом для работы ресурсе информация есть как в JSON-формате, так и в XML. По нашему запросу ресурс возвращает информацию в JSON-формате, однако в настоящий момент результат хранится как единая строка. Проверить тип данных полученного ответа можно, воспользовавшись функцией type().\n",
    "\n",
    "Для того чтобы удобно было работать с полученной информацией, нам необходимо преобразовать строку в словарь. В объект ответа Response  из библиотеки requests уже встроен метод json() .\n",
    "\n",
    "Импортируем функцию pprint(), применим к полученному ответу метод json() и выведем полученный результат на экран:"
   ]
  },
  {
   "cell_type": "code",
   "execution_count": 11,
   "metadata": {},
   "outputs": [
    {
     "name": "stdout",
     "output_type": "stream",
     "text": [
      "{'Date': '2024-06-26T11:30:00+03:00',\n",
      " 'PreviousDate': '2024-06-25T11:30:00+03:00',\n",
      " 'PreviousURL': '//www.cbr-xml-daily.ru/archive/2024/06/25/daily_json.js',\n",
      " 'Timestamp': '2024-06-26T12:00:00+03:00',\n",
      " 'Valute': {'AED': {'CharCode': 'AED',\n",
      "                    'ID': 'R01230',\n",
      "                    'Name': 'Дирхам ОАЭ',\n",
      "                    'Nominal': 1,\n",
      "                    'NumCode': '784',\n",
      "                    'Previous': 23.7912,\n",
      "                    'Value': 23.765},\n",
      "            'AMD': {'CharCode': 'AMD',\n",
      "                    'ID': 'R01060',\n",
      "                    'Name': 'Армянских драмов',\n",
      "                    'Nominal': 100,\n",
      "                    'NumCode': '051',\n",
      "                    'Previous': 22.5159,\n",
      "                    'Value': 22.4825},\n",
      "            'AUD': {'CharCode': 'AUD',\n",
      "                    'ID': 'R01010',\n",
      "                    'Name': 'Австралийский доллар',\n",
      "                    'Nominal': 1,\n",
      "                    'NumCode': '036',\n",
      "                    'Previous': 58.0244,\n",
      "                    'Value': 58.1614},\n",
      "            'AZN': {'CharCode': 'AZN',\n",
      "                    'ID': 'R01020A',\n",
      "                    'Name': 'Азербайджанский манат',\n",
      "                    'Nominal': 1,\n",
      "                    'NumCode': '944',\n",
      "                    'Previous': 51.3959,\n",
      "                    'Value': 51.3394},\n",
      "            'BGN': {'CharCode': 'BGN',\n",
      "                    'ID': 'R01100',\n",
      "                    'Name': 'Болгарский лев',\n",
      "                    'Nominal': 1,\n",
      "                    'NumCode': '975',\n",
      "                    'Previous': 47.7466,\n",
      "                    'Value': 47.8815},\n",
      "            'BRL': {'CharCode': 'BRL',\n",
      "                    'ID': 'R01115',\n",
      "                    'Name': 'Бразильский реал',\n",
      "                    'Nominal': 1,\n",
      "                    'NumCode': '986',\n",
      "                    'Previous': 16.0574,\n",
      "                    'Value': 16.1633},\n",
      "            'BYN': {'CharCode': 'BYN',\n",
      "                    'ID': 'R01090B',\n",
      "                    'Name': 'Белорусский рубль',\n",
      "                    'Nominal': 1,\n",
      "                    'NumCode': '933',\n",
      "                    'Previous': 27.1572,\n",
      "                    'Value': 27.3125},\n",
      "            'CAD': {'CharCode': 'CAD',\n",
      "                    'ID': 'R01350',\n",
      "                    'Name': 'Канадский доллар',\n",
      "                    'Nominal': 1,\n",
      "                    'NumCode': '124',\n",
      "                    'Previous': 63.7666,\n",
      "                    'Value': 63.8784},\n",
      "            'CHF': {'CharCode': 'CHF',\n",
      "                    'ID': 'R01775',\n",
      "                    'Name': 'Швейцарский франк',\n",
      "                    'Nominal': 1,\n",
      "                    'NumCode': '756',\n",
      "                    'Previous': 97.7436,\n",
      "                    'Value': 97.6799},\n",
      "            'CNY': {'CharCode': 'CNY',\n",
      "                    'ID': 'R01375',\n",
      "                    'Name': 'Китайский юань',\n",
      "                    'Nominal': 1,\n",
      "                    'NumCode': '156',\n",
      "                    'Previous': 11.8582,\n",
      "                    'Value': 11.8105},\n",
      "            'CZK': {'CharCode': 'CZK',\n",
      "                    'ID': 'R01760',\n",
      "                    'Name': 'Чешских крон',\n",
      "                    'Nominal': 10,\n",
      "                    'NumCode': '203',\n",
      "                    'Previous': 37.6673,\n",
      "                    'Value': 37.6779},\n",
      "            'DKK': {'CharCode': 'DKK',\n",
      "                    'ID': 'R01215',\n",
      "                    'Name': 'Датская крона',\n",
      "                    'Nominal': 1,\n",
      "                    'NumCode': '208',\n",
      "                    'Previous': 12.5214,\n",
      "                    'Value': 12.5546},\n",
      "            'EGP': {'CharCode': 'EGP',\n",
      "                    'ID': 'R01240',\n",
      "                    'Name': 'Египетских фунтов',\n",
      "                    'Nominal': 10,\n",
      "                    'NumCode': '818',\n",
      "                    'Previous': 18.0825,\n",
      "                    'Value': 18.0397},\n",
      "            'EUR': {'CharCode': 'EUR',\n",
      "                    'ID': 'R01239',\n",
      "                    'Name': 'Евро',\n",
      "                    'Nominal': 1,\n",
      "                    'NumCode': '978',\n",
      "                    'Previous': 94.0759,\n",
      "                    'Value': 93.7347},\n",
      "            'GBP': {'CharCode': 'GBP',\n",
      "                    'ID': 'R01035',\n",
      "                    'Name': 'Фунт стерлингов Соединенного королевства',\n",
      "                    'Nominal': 1,\n",
      "                    'NumCode': '826',\n",
      "                    'Previous': 110.3171,\n",
      "                    'Value': 110.7371},\n",
      "            'GEL': {'CharCode': 'GEL',\n",
      "                    'ID': 'R01210',\n",
      "                    'Name': 'Грузинский лари',\n",
      "                    'Nominal': 1,\n",
      "                    'NumCode': '981',\n",
      "                    'Previous': 31.2035,\n",
      "                    'Value': 31.1359},\n",
      "            'HKD': {'CharCode': 'HKD',\n",
      "                    'ID': 'R01200',\n",
      "                    'Name': 'Гонконгский доллар',\n",
      "                    'Nominal': 1,\n",
      "                    'NumCode': '344',\n",
      "                    'Previous': 11.2117,\n",
      "                    'Value': 11.198},\n",
      "            'HUF': {'CharCode': 'HUF',\n",
      "                    'ID': 'R01135',\n",
      "                    'Name': 'Венгерских форинтов',\n",
      "                    'Nominal': 100,\n",
      "                    'NumCode': '348',\n",
      "                    'Previous': 23.67,\n",
      "                    'Value': 23.7185},\n",
      "            'IDR': {'CharCode': 'IDR',\n",
      "                    'ID': 'R01280',\n",
      "                    'Name': 'Индонезийских рупий',\n",
      "                    'Nominal': 10000,\n",
      "                    'NumCode': '360',\n",
      "                    'Previous': 53.0885,\n",
      "                    'Value': 53.1173},\n",
      "            'INR': {'CharCode': 'INR',\n",
      "                    'ID': 'R01270',\n",
      "                    'Name': 'Индийских рупий',\n",
      "                    'Nominal': 10,\n",
      "                    'NumCode': '356',\n",
      "                    'Previous': 10.4621,\n",
      "                    'Value': 10.4614},\n",
      "            'JPY': {'CharCode': 'JPY',\n",
      "                    'ID': 'R01820',\n",
      "                    'Name': 'Японских иен',\n",
      "                    'Nominal': 100,\n",
      "                    'NumCode': '392',\n",
      "                    'Previous': 54.673,\n",
      "                    'Value': 54.7191},\n",
      "            'KGS': {'CharCode': 'KGS',\n",
      "                    'ID': 'R01370',\n",
      "                    'Name': 'Киргизских сомов',\n",
      "                    'Nominal': 10,\n",
      "                    'NumCode': '417',\n",
      "                    'Previous': 10.0784,\n",
      "                    'Value': 10.0797},\n",
      "            'KRW': {'CharCode': 'KRW',\n",
      "                    'ID': 'R01815',\n",
      "                    'Name': 'Вон Республики Корея',\n",
      "                    'Nominal': 1000,\n",
      "                    'NumCode': '410',\n",
      "                    'Previous': 62.9035,\n",
      "                    'Value': 62.9023},\n",
      "            'KZT': {'CharCode': 'KZT',\n",
      "                    'ID': 'R01335',\n",
      "                    'Name': 'Казахстанских тенге',\n",
      "                    'Nominal': 100,\n",
      "                    'NumCode': '398',\n",
      "                    'Previous': 18.8012,\n",
      "                    'Value': 18.758},\n",
      "            'MDL': {'CharCode': 'MDL',\n",
      "                    'ID': 'R01500',\n",
      "                    'Name': 'Молдавских леев',\n",
      "                    'Nominal': 10,\n",
      "                    'NumCode': '498',\n",
      "                    'Previous': 48.8254,\n",
      "                    'Value': 48.7919},\n",
      "            'NOK': {'CharCode': 'NOK',\n",
      "                    'ID': 'R01535',\n",
      "                    'Name': 'Норвежских крон',\n",
      "                    'Nominal': 10,\n",
      "                    'NumCode': '578',\n",
      "                    'Previous': 82.8722,\n",
      "                    'Value': 82.5166},\n",
      "            'NZD': {'CharCode': 'NZD',\n",
      "                    'ID': 'R01530',\n",
      "                    'Name': 'Новозеландский доллар',\n",
      "                    'Nominal': 1,\n",
      "                    'NumCode': '554',\n",
      "                    'Previous': 53.3805,\n",
      "                    'Value': 53.431},\n",
      "            'PLN': {'CharCode': 'PLN',\n",
      "                    'ID': 'R01565',\n",
      "                    'Name': 'Польский злотый',\n",
      "                    'Nominal': 1,\n",
      "                    'NumCode': '985',\n",
      "                    'Previous': 21.6704,\n",
      "                    'Value': 21.8329},\n",
      "            'QAR': {'CharCode': 'QAR',\n",
      "                    'ID': 'R01355',\n",
      "                    'Name': 'Катарский риал',\n",
      "                    'Nominal': 1,\n",
      "                    'NumCode': '634',\n",
      "                    'Previous': 24.0036,\n",
      "                    'Value': 23.9772},\n",
      "            'RON': {'CharCode': 'RON',\n",
      "                    'ID': 'R01585F',\n",
      "                    'Name': 'Румынский лей',\n",
      "                    'Nominal': 1,\n",
      "                    'NumCode': '946',\n",
      "                    'Previous': 18.7758,\n",
      "                    'Value': 18.8154},\n",
      "            'RSD': {'CharCode': 'RSD',\n",
      "                    'ID': 'R01805F',\n",
      "                    'Name': 'Сербских динаров',\n",
      "                    'Nominal': 100,\n",
      "                    'NumCode': '941',\n",
      "                    'Previous': 79.8633,\n",
      "                    'Value': 80.0808},\n",
      "            'SEK': {'CharCode': 'SEK',\n",
      "                    'ID': 'R01770',\n",
      "                    'Name': 'Шведских крон',\n",
      "                    'Nominal': 10,\n",
      "                    'NumCode': '752',\n",
      "                    'Previous': 83.6356,\n",
      "                    'Value': 83.2022},\n",
      "            'SGD': {'CharCode': 'SGD',\n",
      "                    'ID': 'R01625',\n",
      "                    'Name': 'Сингапурский доллар',\n",
      "                    'Nominal': 1,\n",
      "                    'NumCode': '702',\n",
      "                    'Previous': 64.4867,\n",
      "                    'Value': 64.554},\n",
      "            'THB': {'CharCode': 'THB',\n",
      "                    'ID': 'R01675',\n",
      "                    'Name': 'Таиландских батов',\n",
      "                    'Nominal': 10,\n",
      "                    'NumCode': '764',\n",
      "                    'Previous': 23.7905,\n",
      "                    'Value': 23.8403},\n",
      "            'TJS': {'CharCode': 'TJS',\n",
      "                    'ID': 'R01670',\n",
      "                    'Name': 'Таджикских сомони',\n",
      "                    'Nominal': 10,\n",
      "                    'NumCode': '972',\n",
      "                    'Previous': 82.0103,\n",
      "                    'Value': 81.8296},\n",
      "            'TMT': {'CharCode': 'TMT',\n",
      "                    'ID': 'R01710A',\n",
      "                    'Name': 'Новый туркменский манат',\n",
      "                    'Nominal': 1,\n",
      "                    'NumCode': '934',\n",
      "                    'Previous': 24.9637,\n",
      "                    'Value': 24.9363},\n",
      "            'TRY': {'CharCode': 'TRY',\n",
      "                    'ID': 'R01700J',\n",
      "                    'Name': 'Турецких лир',\n",
      "                    'Nominal': 10,\n",
      "                    'NumCode': '949',\n",
      "                    'Previous': 26.6296,\n",
      "                    'Value': 26.5786},\n",
      "            'UAH': {'CharCode': 'UAH',\n",
      "                    'ID': 'R01720',\n",
      "                    'Name': 'Украинских гривен',\n",
      "                    'Nominal': 10,\n",
      "                    'NumCode': '980',\n",
      "                    'Previous': 21.6014,\n",
      "                    'Value': 21.523},\n",
      "            'USD': {'CharCode': 'USD',\n",
      "                    'ID': 'R01235',\n",
      "                    'Name': 'Доллар США',\n",
      "                    'Nominal': 1,\n",
      "                    'NumCode': '840',\n",
      "                    'Previous': 87.373,\n",
      "                    'Value': 87.277},\n",
      "            'UZS': {'CharCode': 'UZS',\n",
      "                    'ID': 'R01717',\n",
      "                    'Name': 'Узбекских сумов',\n",
      "                    'Nominal': 10000,\n",
      "                    'NumCode': '860',\n",
      "                    'Previous': 69.2053,\n",
      "                    'Value': 69.2679},\n",
      "            'VND': {'CharCode': 'VND',\n",
      "                    'ID': 'R01150',\n",
      "                    'Name': 'Вьетнамских донгов',\n",
      "                    'Nominal': 10000,\n",
      "                    'NumCode': '704',\n",
      "                    'Previous': 36.0123,\n",
      "                    'Value': 35.9861},\n",
      "            'XDR': {'CharCode': 'XDR',\n",
      "                    'ID': 'R01589',\n",
      "                    'Name': 'СДР (специальные права заимствования)',\n",
      "                    'Nominal': 1,\n",
      "                    'NumCode': '960',\n",
      "                    'Previous': 114.8911,\n",
      "                    'Value': 114.9351},\n",
      "            'ZAR': {'CharCode': 'ZAR',\n",
      "                    'ID': 'R01810',\n",
      "                    'Name': 'Южноафриканских рэндов',\n",
      "                    'Nominal': 10,\n",
      "                    'NumCode': '710',\n",
      "                    'Previous': 48.3349,\n",
      "                    'Value': 48.1088}}}\n"
     ]
    }
   ],
   "source": [
    "from pprint import pprint # Импортируем функцию pprint()\n",
    "import json # Импортируем модуль json\n",
    "currencies = response.json()\n",
    "pprint(currencies)"
   ]
  },
  {
   "cell_type": "markdown",
   "metadata": {},
   "source": [
    "Теперь данные находятся в словаре и можно легко получать необходимые значения.\n",
    "\n",
    "Например, по ключу Valute мы можем обратиться к вложенному словарю, который содержит информацию о мировых валютах. Выведем на экран, например, информацию о евро (EUR):"
   ]
  },
  {
   "cell_type": "code",
   "execution_count": 12,
   "metadata": {},
   "outputs": [
    {
     "name": "stdout",
     "output_type": "stream",
     "text": [
      "{'CharCode': 'EUR',\n",
      " 'ID': 'R01239',\n",
      " 'Name': 'Евро',\n",
      " 'Nominal': 1,\n",
      " 'NumCode': '978',\n",
      " 'Previous': 94.0759,\n",
      " 'Value': 93.7347}\n"
     ]
    }
   ],
   "source": [
    "pprint(currencies['Valute']['EUR']) # Выводим на экран информацию о валюте евро\n"
   ]
  },
  {
   "cell_type": "code",
   "execution_count": 13,
   "metadata": {},
   "outputs": [
    {
     "name": "stdout",
     "output_type": "stream",
     "text": [
      "Чешских крон\n"
     ]
    }
   ],
   "source": [
    "print(currencies['Valute']['CZK']['Name'])"
   ]
  }
 ],
 "metadata": {
  "kernelspec": {
   "display_name": "Python 3",
   "language": "python",
   "name": "python3"
  },
  "language_info": {
   "codemirror_mode": {
    "name": "ipython",
    "version": 3
   },
   "file_extension": ".py",
   "mimetype": "text/x-python",
   "name": "python",
   "nbconvert_exporter": "python",
   "pygments_lexer": "ipython3",
   "version": "3.10.5"
  }
 },
 "nbformat": 4,
 "nbformat_minor": 2
}
