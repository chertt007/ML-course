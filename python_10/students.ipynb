{
 "cells": [
  {
   "cell_type": "code",
   "execution_count": 13,
   "metadata": {},
   "outputs": [
    {
     "data": {
      "text/plain": [
       "62.0"
      ]
     },
     "metadata": {},
     "output_type": "display_data"
    },
    {
     "data": {
      "text/plain": [
       "5.827586206896555"
      ]
     },
     "metadata": {},
     "output_type": "display_data"
    }
   ],
   "source": [
    "import pandas as pd\n",
    "import numpy as np\n",
    "students_data = pd.read_csv('data/students_performance.csv', sep=',')\n",
    "# display(students_data.head(10))\n",
    "# display(students_data.info())\n",
    "# display(students_data.loc[155,'writing score'])\n",
    "# display(students_data.isnull().sum().sum())\n",
    "# display((students_data.dtypes == 'object').sum())\n",
    "# display(students_data['race/ethnicity'].value_counts())\n",
    "# display(students_data[students_data['math score'] == 0])\n",
    "# lunch_included = students_data[students_data['lunch']=='standard']['math score'].mean()\n",
    "# no_lunch_included = students_data[students_data['lunch']=='free/reduced']['math score'].mean()\n",
    "# display(lunch_included)\n",
    "# display(no_lunch_included)\n",
    "# display(students_data['parental level of education'].value_counts(normalize=True))\n",
    "\n",
    "group_a = students_data[students_data['race/ethnicity'] == 'group A']\n",
    "median_write_group_a = group_a['writing score'].median()\n",
    "display(median_write_group_a)\n",
    "group_c = students_data[students_data['race/ethnicity'] == 'group C']\n",
    "mean_write_group_c = group_c['writing score'].mean()\n",
    "display(abs(median_write_group_a-mean_write_group_c))\n"
   ]
  }
 ],
 "metadata": {
  "kernelspec": {
   "display_name": "Python 3",
   "language": "python",
   "name": "python3"
  },
  "language_info": {
   "codemirror_mode": {
    "name": "ipython",
    "version": 3
   },
   "file_extension": ".py",
   "mimetype": "text/x-python",
   "name": "python",
   "nbconvert_exporter": "python",
   "pygments_lexer": "ipython3",
   "version": "3.10.5"
  }
 },
 "nbformat": 4,
 "nbformat_minor": 2
}
