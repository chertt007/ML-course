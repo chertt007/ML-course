{
 "cells": [
  {
   "cell_type": "code",
   "execution_count": 26,
   "metadata": {},
   "outputs": [],
   "source": [
    "import numpy as np #для матричных вычислений\n",
    "import pandas as pd #для анализа и предобработки данных\n",
    "import matplotlib.pyplot as plt #для визуализации\n",
    "import seaborn as sns #для визуализации\n",
    "import dtale\n",
    "from sklearn import linear_model #линейные модели\n",
    "from sklearn import metrics #метрики\n",
    "from sklearn import preprocessing #предобработка\n",
    "from sklearn.model_selection import train_test_split #разделение выборки"
   ]
  },
  {
   "cell_type": "code",
   "execution_count": 27,
   "metadata": {},
   "outputs": [
    {
     "data": {
      "text/html": [
       "<div>\n",
       "<style scoped>\n",
       "    .dataframe tbody tr th:only-of-type {\n",
       "        vertical-align: middle;\n",
       "    }\n",
       "\n",
       "    .dataframe tbody tr th {\n",
       "        vertical-align: top;\n",
       "    }\n",
       "\n",
       "    .dataframe thead th {\n",
       "        text-align: right;\n",
       "    }\n",
       "</style>\n",
       "<table border=\"1\" class=\"dataframe\">\n",
       "  <thead>\n",
       "    <tr style=\"text-align: right;\">\n",
       "      <th></th>\n",
       "      <th>age</th>\n",
       "      <th>sex</th>\n",
       "      <th>bmi</th>\n",
       "      <th>children</th>\n",
       "      <th>smoker</th>\n",
       "      <th>region</th>\n",
       "      <th>charges</th>\n",
       "    </tr>\n",
       "  </thead>\n",
       "  <tbody>\n",
       "    <tr>\n",
       "      <th>0</th>\n",
       "      <td>19</td>\n",
       "      <td>female</td>\n",
       "      <td>27.900</td>\n",
       "      <td>0</td>\n",
       "      <td>yes</td>\n",
       "      <td>southwest</td>\n",
       "      <td>16884.92400</td>\n",
       "    </tr>\n",
       "    <tr>\n",
       "      <th>1</th>\n",
       "      <td>18</td>\n",
       "      <td>male</td>\n",
       "      <td>33.770</td>\n",
       "      <td>1</td>\n",
       "      <td>no</td>\n",
       "      <td>southeast</td>\n",
       "      <td>1725.55230</td>\n",
       "    </tr>\n",
       "    <tr>\n",
       "      <th>2</th>\n",
       "      <td>28</td>\n",
       "      <td>male</td>\n",
       "      <td>33.000</td>\n",
       "      <td>3</td>\n",
       "      <td>no</td>\n",
       "      <td>southeast</td>\n",
       "      <td>4449.46200</td>\n",
       "    </tr>\n",
       "    <tr>\n",
       "      <th>3</th>\n",
       "      <td>33</td>\n",
       "      <td>male</td>\n",
       "      <td>22.705</td>\n",
       "      <td>0</td>\n",
       "      <td>no</td>\n",
       "      <td>northwest</td>\n",
       "      <td>21984.47061</td>\n",
       "    </tr>\n",
       "    <tr>\n",
       "      <th>4</th>\n",
       "      <td>32</td>\n",
       "      <td>male</td>\n",
       "      <td>28.880</td>\n",
       "      <td>0</td>\n",
       "      <td>no</td>\n",
       "      <td>northwest</td>\n",
       "      <td>3866.85520</td>\n",
       "    </tr>\n",
       "  </tbody>\n",
       "</table>\n",
       "</div>"
      ],
      "text/plain": [
       "   age     sex     bmi  children smoker     region      charges\n",
       "0   19  female  27.900         0    yes  southwest  16884.92400\n",
       "1   18    male  33.770         1     no  southeast   1725.55230\n",
       "2   28    male  33.000         3     no  southeast   4449.46200\n",
       "3   33    male  22.705         0     no  northwest  21984.47061\n",
       "4   32    male  28.880         0     no  northwest   3866.85520"
      ]
     },
     "execution_count": 27,
     "metadata": {},
     "output_type": "execute_result"
    }
   ],
   "source": [
    "data = pd.read_csv('./data/insurance.csv')\n",
    "data.head()"
   ]
  },
  {
   "cell_type": "code",
   "execution_count": 28,
   "metadata": {},
   "outputs": [
    {
     "name": "stdout",
     "output_type": "stream",
     "text": [
      "(1338, 7)\n"
     ]
    }
   ],
   "source": [
    "print(data.shape)\n",
    "# (1338, 7)"
   ]
  },
  {
   "cell_type": "code",
   "execution_count": 29,
   "metadata": {},
   "outputs": [
    {
     "data": {
      "text/plain": [
       "age         0\n",
       "sex         0\n",
       "bmi         0\n",
       "children    0\n",
       "smoker      0\n",
       "region      0\n",
       "charges     0\n",
       "dtype: int64"
      ]
     },
     "metadata": {},
     "output_type": "display_data"
    }
   ],
   "source": [
    "# Выведем информацию о пропусках, так как наличие пропусков не позволит нам построить модель линейной регрессии:\n",
    "display(data.isnull().sum())"
   ]
  },
  {
   "cell_type": "code",
   "execution_count": 30,
   "metadata": {},
   "outputs": [
    {
     "data": {
      "text/plain": [
       "age           int64\n",
       "sex          object\n",
       "bmi         float64\n",
       "children      int64\n",
       "smoker       object\n",
       "region       object\n",
       "charges     float64\n",
       "dtype: object"
      ]
     },
     "metadata": {},
     "output_type": "display_data"
    }
   ],
   "source": [
    "display(data.dtypes)"
   ]
  },
  {
   "cell_type": "code",
   "execution_count": 31,
   "metadata": {},
   "outputs": [
    {
     "data": {
      "text/html": [
       "\n",
       "        <iframe\n",
       "            width=\"100%\"\n",
       "            height=\"475\"\n",
       "            src=\"http://ILYA-EDELSHTIEN:40000/dtale/iframe/3\"\n",
       "            frameborder=\"0\"\n",
       "            allowfullscreen\n",
       "            \n",
       "        ></iframe>\n",
       "        "
      ],
      "text/plain": [
       "<IPython.lib.display.IFrame at 0x214941e84f0>"
      ]
     },
     "metadata": {},
     "output_type": "display_data"
    },
    {
     "data": {
      "text/plain": []
     },
     "execution_count": 31,
     "metadata": {},
     "output_type": "execute_result"
    }
   ],
   "source": [
    "d = dtale.show(data)\n",
    "d"
   ]
  },
  {
   "cell_type": "code",
   "execution_count": 32,
   "metadata": {},
   "outputs": [],
   "source": [
    "#кодируем бинарные категориальные признаки\n",
    "data['smoker'] = data['smoker'].apply( lambda x: 0 if x=='no' else 1)\n",
    "data['sex'] = data['sex'].apply( lambda x: 0 if x=='female' else 1)\n",
    "#оставшиеся категориальные признаки кодируем с помощью OneHot\n",
    "data = pd.get_dummies(data)\n",
    "\n",
    "data.head()\n",
    "features = data.drop('charges', axis=1).columns\n",
    "X,y = data[features], data['charges']"
   ]
  },
  {
   "cell_type": "code",
   "execution_count": 33,
   "metadata": {},
   "outputs": [
    {
     "name": "stdout",
     "output_type": "stream",
     "text": [
      "Train: (1070, 9) (1070,)\n",
      "Test: (268, 9) (268,)\n"
     ]
    }
   ],
   "source": [
    "X_train, X_test, y_train, y_test = train_test_split(X,y, test_size=0.2, random_state=42)\n",
    "#Выводим результирующие размеры таблиц\n",
    "print('Train:', X_train.shape, y_train.shape)\n",
    "print('Test:', X_test.shape, y_test.shape)\n",
    " "
   ]
  },
  {
   "cell_type": "code",
   "execution_count": 46,
   "metadata": {},
   "outputs": [
    {
     "name": "stdout",
     "output_type": "stream",
     "text": [
      "Train R^2: 0.7417\n",
      "Test R^2: 0.7836\n",
      "Train MAE: 4208.2346\n",
      "Test MAE: 4181.1945\n",
      "Train MAPE: 42.203\n",
      "Test MAPE: 46.888\n",
      "-12390.804294570278\n"
     ]
    }
   ],
   "source": [
    "lr_model = linear_model.LinearRegression()\n",
    "lr_model.fit(X_train, y_train)\n",
    "y_train_predict = lr_model.predict(X_train)\n",
    "y_test_predict = lr_model.predict(X_test)\n",
    "print(\"Train R^2: {:.4f}\".format(metrics.r2_score(y_train, y_train_predict)))\n",
    "print(\"Test R^2: {:.4f}\".format(metrics.r2_score(y_test, y_test_predict)))\n",
    "print(\"Train MAE: {:.4f}\".format(metrics.mean_absolute_error(y_train, y_train_predict)))\n",
    "print(\"Test MAE: {:.4f}\".format(metrics.mean_absolute_error(y_test, y_test_predict)))\n",
    "print(\"Train MAPE: {:.3f}\".format(metrics.mean_absolute_percentage_error(y_train, y_train_predict)*100))\n",
    "print(\"Test MAPE: {:.3f}\".format(metrics.mean_absolute_percentage_error(y_test, y_test_predict)*100))\n",
    "print(lr_model.intercept_)"
   ]
  },
  {
   "cell_type": "code",
   "execution_count": 48,
   "metadata": {},
   "outputs": [
    {
     "data": {
      "image/png": "[encoded data removed]",
      "text/plain": [
       "<Figure size 800x600 with 1 Axes>"
      ]
     },
     "metadata": {},
     "output_type": "display_data"
    }
   ],
   "source": [
    "\n",
    "# Calculate residuals (errors)\n",
    "train_errors = y_train - y_train_predict\n",
    "test_errors = y_test - y_test_predict\n",
    "\n",
    "# Create boxplot of errors\n",
    "plt.figure(figsize=(8, 6))\n",
    "sns.boxplot(data=[train_errors, test_errors], palette=\"Set2\")\n",
    "plt.xticks([0, 1], ['Train Errors', 'Test Errors'])\n",
    "plt.title('Boxplot of Model Errors (Residuals)')\n",
    "plt.ylabel('Error (y - y_pred)')\n",
    "plt.show()"
   ]
  },
  {
   "cell_type": "code",
   "execution_count": 49,
   "metadata": {},
   "outputs": [
    {
     "name": "stdout",
     "output_type": "stream",
     "text": [
      "(1070, 54)\n",
      "(268, 54)\n"
     ]
    }
   ],
   "source": [
    "#Инициализируем стандартизатор StandardScaler\n",
    "scaler = preprocessing.MinMaxScaler()\n",
    "#Подгоняем параметры стандартизатора (вычисляем среднее и СКО)\n",
    "scaler.fit(X_train)\n",
    "#Производим normalize тренировочной выборки\n",
    "X_train_scaled = scaler.transform(X_train)\n",
    "#Производим стандартизацию тестовой выборки\n",
    "X_test_scaled = scaler.transform(X_test)\n",
    "#Создаём генератор полиномиальных признаков\n",
    "poly = preprocessing.PolynomialFeatures(degree=2, include_bias=False)\n",
    "poly.fit(X_train_scaled)\n",
    "\n",
    "X_train_scaled_poly = poly.transform(X_train_scaled)\n",
    "X_test_scaled_poly = poly.transform(X_test_scaled)\n",
    "print(X_train_scaled_poly.shape)\n",
    "print(X_test_scaled_poly.shape)"
   ]
  },
  {
   "cell_type": "code",
   "execution_count": 50,
   "metadata": {},
   "outputs": [
    {
     "name": "stdout",
     "output_type": "stream",
     "text": [
      "Train R^2: 0.8417\n",
      "Test R^2: 0.8662\n",
      "Train MAE: 2912.0137\n",
      "Test MAE: 2755.7683\n",
      "Train MAPE: 29.398\n",
      "Test MAPE: 30.333\n",
      "1.715068454483469e+16\n"
     ]
    }
   ],
   "source": [
    "# Обучите модель линейной регрессии на полиномиальных признаках.\n",
    "lr_model = linear_model.LinearRegression()\n",
    "lr_model.fit(X_train_scaled_poly, y_train)\n",
    "y_train_predict = lr_model.predict(X_train_scaled_poly)\n",
    "y_test_predict = lr_model.predict(X_test_scaled_poly)\n",
    "print(\"Train R^2: {:.4f}\".format(metrics.r2_score(y_train, y_train_predict)))\n",
    "print(\"Test R^2: {:.4f}\".format(metrics.r2_score(y_test, y_test_predict)))\n",
    "print(\"Train MAE: {:.4f}\".format(metrics.mean_absolute_error(y_train, y_train_predict)))\n",
    "print(\"Test MAE: {:.4f}\".format(metrics.mean_absolute_error(y_test, y_test_predict)))\n",
    "print(\"Train MAPE: {:.3f}\".format(metrics.mean_absolute_percentage_error(y_train, y_train_predict)*100))\n",
    "print(\"Test MAPE: {:.3f}\".format(metrics.mean_absolute_percentage_error(y_test, y_test_predict)*100))\n",
    "print(lr_model.intercept_)"
   ]
  },
  {
   "cell_type": "code",
   "execution_count": 51,
   "metadata": {},
   "outputs": [
    {
     "name": "stdout",
     "output_type": "stream",
     "text": [
      "Train R^2: 0.8418\n",
      "Test R^2: 0.8668\n",
      "Train MAE: 2890.4733\n",
      "Test MAE: 2719.3341\n",
      "Train MAPE: 29.401\n",
      "Test MAPE: 30.070\n"
     ]
    }
   ],
   "source": [
    "# Постройте линейную регрессию с L1-регуляризацией (Lasso) на полиномиальных признаках. В качестве параметра alpha используйте значение по умолчанию, параметр max_iter установите в значение 2000.\n",
    "#Создаём объект класса линейной регрессии с L1-регуляризацией\n",
    "\n",
    "lasso_lr_poly =linear_model.Lasso(max_iter=2000)\n",
    "lasso_lr_poly.fit(X_train_scaled_poly, y_train)\n",
    "#Делаем предсказание для тренировочной выборки\n",
    "y_train_predict_polly = lasso_lr_poly.predict(X_train_scaled_poly)\n",
    "#Делаем предсказание для тестовой выборки\n",
    "y_test_predict_polly = lasso_lr_poly.predict(X_test_scaled_poly)\n",
    "\n",
    "print(\"Train R^2: {:.4f}\".format(metrics.r2_score(y_train, y_train_predict_polly)))\n",
    "print(\"Test R^2: {:.4f}\".format(metrics.r2_score(y_test, y_test_predict_polly)))\n",
    "print(\"Train MAE: {:.4f}\".format(metrics.mean_absolute_error(y_train, y_train_predict_polly)))\n",
    "print(\"Test MAE: {:.4f}\".format(metrics.mean_absolute_error(y_test, y_test_predict_polly)))\n",
    "print(\"Train MAPE: {:.3f}\".format(metrics.mean_absolute_percentage_error(y_train, y_train_predict_polly)*100))\n",
    "print(\"Test MAPE: {:.3f}\".format(metrics.mean_absolute_percentage_error(y_test, y_test_predict_polly)*100))"
   ]
  },
  {
   "cell_type": "code",
   "execution_count": 55,
   "metadata": {},
   "outputs": [
    {
     "name": "stdout",
     "output_type": "stream",
     "text": [
      "Train R^2: 0.8386\n",
      "Test R^2: 0.8633\n",
      "Train MAE: 2948.8038\n",
      "Test MAE: 2860.5545\n",
      "Train MAPE: 29.546\n",
      "Test MAPE: 31.380\n"
     ]
    }
   ],
   "source": [
    "# Постройте линейную регрессию с L2-регуляризацией на полиномиальных признаках. В качестве параметра alpha используйте значение по умолчанию.\n",
    "#Создаём объект класса линейной регрессии с L2-регуляризацией\n",
    "ridge_lr_poly = linear_model.Ridge()\n",
    "ridge_lr_poly.fit(X_train_scaled_poly,y_train)\n",
    "#Делаем предсказание для тренировочной выборки\n",
    "y_train_predict_poly = ridge_lr_poly.predict(X_train_scaled_poly)\n",
    "#Делаем предсказание для тестовой выборки\n",
    "y_test_predict_poly = ridge_lr_poly.predict(X_test_scaled_poly)\n",
    "print(\"Train R^2: {:.4f}\".format(metrics.r2_score(y_train, y_train_predict_poly)))\n",
    "print(\"Test R^2: {:.4f}\".format(metrics.r2_score(y_test, y_test_predict_poly)))\n",
    "print(\"Train MAE: {:.4f}\".format(metrics.mean_absolute_error(y_train, y_train_predict_poly)))\n",
    "print(\"Test MAE: {:.4f}\".format(metrics.mean_absolute_error(y_test, y_test_predict_poly)))\n",
    "print(\"Train MAPE: {:.3f}\".format(metrics.mean_absolute_percentage_error(y_train, y_train_predict_poly)*100))\n",
    "print(\"Test MAPE: {:.3f}\".format(metrics.mean_absolute_percentage_error(y_test, y_test_predict_poly)*100))"
   ]
  }
 ],
 "metadata": {
  "kernelspec": {
   "display_name": "Python 3",
   "language": "python",
   "name": "python3"
  },
  "language_info": {
   "codemirror_mode": {
    "name": "ipython",
    "version": 3
   },
   "file_extension": ".py",
   "mimetype": "text/x-python",
   "name": "python",
   "nbconvert_exporter": "python",
   "pygments_lexer": "ipython3",
   "version": "3.10.5"
  }
 },
 "nbformat": 4,
 "nbformat_minor": 2
}
